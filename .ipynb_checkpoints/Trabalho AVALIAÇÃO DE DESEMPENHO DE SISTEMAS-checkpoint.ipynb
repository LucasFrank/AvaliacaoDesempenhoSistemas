{
 "cells": [
  {
   "cell_type": "code",
   "execution_count": 1,
   "metadata": {},
   "outputs": [
    {
     "name": "stdout",
     "output_type": "stream",
     "text": [
      "Importing modules...\n"
     ]
    }
   ],
   "source": [
    "import pandas as pd\n",
    "import numpy as np\n",
    "import matplotlib.pyplot as plt\n",
    "print(\"Importing modules...\")"
   ]
  },
  {
   "cell_type": "code",
   "execution_count": 2,
   "metadata": {},
   "outputs": [
    {
     "name": "stdout",
     "output_type": "stream",
     "text": [
      "Reading data...\n"
     ]
    }
   ],
   "source": [
    "df = pd.read_csv(\"fileSizeComplete.txt\", delim_whitespace = True, header = None, names=[\"Size\"])\n",
    "print(\"Reading data...\")"
   ]
  },
  {
   "cell_type": "code",
   "execution_count": 3,
   "metadata": {},
   "outputs": [
    {
     "name": "stdout",
     "output_type": "stream",
     "text": [
      "Printing data...\n",
      "             Size\n",
      "0               0\n",
      "1               0\n",
      "2               0\n",
      "3               0\n",
      "4               0\n",
      "5               0\n",
      "6               0\n",
      "7               0\n",
      "8               0\n",
      "9               0\n",
      "10              0\n",
      "11              0\n",
      "12              0\n",
      "13              0\n",
      "14              0\n",
      "15              0\n",
      "16              0\n",
      "17              0\n",
      "18              0\n",
      "19              0\n",
      "20              0\n",
      "21              0\n",
      "22              0\n",
      "23              0\n",
      "24              0\n",
      "25              0\n",
      "26              0\n",
      "27              0\n",
      "28              0\n",
      "29              0\n",
      "...           ...\n",
      "114011    2691188\n",
      "114012    2698160\n",
      "114013    2927576\n",
      "114014    2931836\n",
      "114015    3155260\n",
      "114016    3703400\n",
      "114017    3958864\n",
      "114018    4163794\n",
      "114019    4472204\n",
      "114020    4590984\n",
      "114021    4593040\n",
      "114022    4852440\n",
      "114023    6696416\n",
      "114024    7210088\n",
      "114025    7925420\n",
      "114026    8673920\n",
      "114027   10332304\n",
      "114028   12700752\n",
      "114029   13164116\n",
      "114030   15562832\n",
      "114031   21920096\n",
      "114032   29968732\n",
      "114033   54207712\n",
      "114034  153450740\n",
      "114035  153462848\n",
      "114036  153489344\n",
      "114037  154550900\n",
      "114038  218997168\n",
      "114039  218997216\n",
      "114040  234056436\n",
      "\n",
      "[114041 rows x 1 columns]\n"
     ]
    }
   ],
   "source": [
    "print(\"Printing data...\")\n",
    "print(df)"
   ]
  },
  {
   "cell_type": "code",
   "execution_count": 4,
   "metadata": {},
   "outputs": [
    {
     "name": "stdout",
     "output_type": "stream",
     "text": [
      "O valor da média dos tamanhos de arquivos é: 14500.760156434966\n"
     ]
    }
   ],
   "source": [
    "def mean(data):\n",
    "    meanValue = 0\n",
    "    dataLen = len(data)\n",
    "    for index in range(dataLen):\n",
    "        meanValue += data[index]\n",
    "\n",
    "    return meanValue / dataLen\n",
    "\n",
    "print(\"O valor da média dos tamanhos de arquivos é: \" + str(mean(df[\"Size\"])))"
   ]
  },
  {
   "cell_type": "code",
   "execution_count": 5,
   "metadata": {},
   "outputs": [
    {
     "name": "stdout",
     "output_type": "stream",
     "text": [
      "O valor da variância dos tamanhos de arquivos é: 2198416007565.6272\n"
     ]
    }
   ],
   "source": [
    "def variance(data):\n",
    "    varianceValue = 0\n",
    "    meanValue = mean(data)\n",
    "    dataLen = len(data)\n",
    "    for index in range(dataLen):\n",
    "        varianceValue += (data[index] - meanValue) ** 2\n",
    "        \n",
    "    return varianceValue / dataLen\n",
    "\n",
    "print(\"O valor da variância dos tamanhos de arquivos é: \" + str(variance(df[\"Size\"])))"
   ]
  },
  {
   "cell_type": "code",
   "execution_count": 6,
   "metadata": {},
   "outputs": [
    {
     "name": "stdout",
     "output_type": "stream",
     "text": [
      "O valor do desvio padrão dos tamanhos de arquivos é: 1482705.6375308037\n"
     ]
    }
   ],
   "source": [
    "def standardDeviation(data):\n",
    "    deviationValue = 0\n",
    "    deviationValue = variance(data) ** 0.5\n",
    "    return deviationValue\n",
    "\n",
    "print(\"O valor do desvio padrão dos tamanhos de arquivos é: \" + str(standardDeviation(df[\"Size\"])))"
   ]
  },
  {
   "cell_type": "code",
   "execution_count": 7,
   "metadata": {},
   "outputs": [
    {
     "name": "stdout",
     "output_type": "stream",
     "text": [
      "O valor do coeficiente de variação dos tamanhos de arquivos é: 102.25020078501382\n"
     ]
    }
   ],
   "source": [
    "def coefficientOfVariation(data):\n",
    "    coefficientOfVariationValue = 0\n",
    "    coefficientOfVariationValue = standardDeviation(data) / mean(data)\n",
    "    return coefficientOfVariationValue\n",
    "\n",
    "print(\"O valor do coeficiente de variação dos tamanhos de arquivos é: \" + str(coefficientOfVariation(df[\"Size\"])))"
   ]
  },
  {
   "cell_type": "code",
   "execution_count": 8,
   "metadata": {},
   "outputs": [
    {
     "ename": "KeyError",
     "evalue": "'Size'",
     "output_type": "error",
     "traceback": [
      "\u001b[1;31m---------------------------------------------------------------------------\u001b[0m",
      "\u001b[1;31mKeyError\u001b[0m                                  Traceback (most recent call last)",
      "\u001b[1;32m<ipython-input-8-8b24ffd68cfe>\u001b[0m in \u001b[0;36m<module>\u001b[1;34m()\u001b[0m\n\u001b[0;32m      6\u001b[0m     \u001b[1;32mreturn\u001b[0m \u001b[0mmodeValue\u001b[0m\u001b[1;33m,\u001b[0m\u001b[0mmodeFrequence\u001b[0m\u001b[1;33m\u001b[0m\u001b[0m\n\u001b[0;32m      7\u001b[0m \u001b[1;33m\u001b[0m\u001b[0m\n\u001b[1;32m----> 8\u001b[1;33m \u001b[0mvalorDaModa\u001b[0m\u001b[1;33m,\u001b[0m\u001b[0mfrequencia\u001b[0m \u001b[1;33m=\u001b[0m \u001b[0mmode\u001b[0m\u001b[1;33m(\u001b[0m\u001b[0mdf\u001b[0m\u001b[1;33m[\u001b[0m\u001b[1;34m'Size'\u001b[0m\u001b[1;33m]\u001b[0m\u001b[1;33m)\u001b[0m\u001b[1;33m\u001b[0m\u001b[0m\n\u001b[0m\u001b[0;32m      9\u001b[0m \u001b[0mprint\u001b[0m\u001b[1;33m(\u001b[0m\u001b[1;34m\"A moda dos tamanhos de arquivos é: {} e o número de vezes que ela apareceu foi de: {} \"\u001b[0m\u001b[1;33m.\u001b[0m\u001b[0mformat\u001b[0m\u001b[1;33m(\u001b[0m\u001b[0mvalorDaModa\u001b[0m\u001b[1;33m,\u001b[0m\u001b[0mfrequencia\u001b[0m\u001b[1;33m)\u001b[0m\u001b[1;33m)\u001b[0m\u001b[1;33m\u001b[0m\u001b[0m\n",
      "\u001b[1;32m<ipython-input-8-8b24ffd68cfe>\u001b[0m in \u001b[0;36mmode\u001b[1;34m(data)\u001b[0m\n\u001b[0;32m      1\u001b[0m \u001b[1;32mdef\u001b[0m \u001b[0mmode\u001b[0m\u001b[1;33m(\u001b[0m\u001b[0mdata\u001b[0m\u001b[1;33m)\u001b[0m\u001b[1;33m:\u001b[0m\u001b[1;33m\u001b[0m\u001b[0m\n\u001b[1;32m----> 2\u001b[1;33m     \u001b[0mdf\u001b[0m \u001b[1;33m=\u001b[0m \u001b[0mdata\u001b[0m\u001b[1;33m.\u001b[0m\u001b[0mgroupby\u001b[0m\u001b[1;33m(\u001b[0m\u001b[1;33m[\u001b[0m\u001b[1;34m'Size'\u001b[0m\u001b[1;33m]\u001b[0m\u001b[1;33m)\u001b[0m\u001b[1;33m.\u001b[0m\u001b[0msize\u001b[0m\u001b[1;33m(\u001b[0m\u001b[1;33m)\u001b[0m\u001b[1;33m.\u001b[0m\u001b[0mreset_index\u001b[0m\u001b[1;33m(\u001b[0m\u001b[0mname\u001b[0m\u001b[1;33m=\u001b[0m\u001b[1;34m'count'\u001b[0m\u001b[1;33m)\u001b[0m\u001b[1;33m\u001b[0m\u001b[0m\n\u001b[0m\u001b[0;32m      3\u001b[0m     \u001b[0mdf\u001b[0m \u001b[1;33m=\u001b[0m \u001b[0mnp\u001b[0m\u001b[1;33m.\u001b[0m\u001b[0marray\u001b[0m\u001b[1;33m(\u001b[0m\u001b[0mdf\u001b[0m\u001b[1;33m.\u001b[0m\u001b[0msort_values\u001b[0m\u001b[1;33m(\u001b[0m\u001b[1;33m[\u001b[0m\u001b[1;34m\"count\"\u001b[0m\u001b[1;33m]\u001b[0m\u001b[1;33m)\u001b[0m\u001b[1;33m)\u001b[0m\u001b[1;33m\u001b[0m\u001b[0m\n\u001b[0;32m      4\u001b[0m     \u001b[0mmodeValue\u001b[0m \u001b[1;33m=\u001b[0m \u001b[0mdf\u001b[0m\u001b[1;33m[\u001b[0m\u001b[1;33m-\u001b[0m\u001b[1;36m1\u001b[0m\u001b[1;33m]\u001b[0m\u001b[1;33m[\u001b[0m\u001b[1;36m0\u001b[0m\u001b[1;33m]\u001b[0m\u001b[1;33m\u001b[0m\u001b[0m\n\u001b[0;32m      5\u001b[0m     \u001b[0mmodeFrequence\u001b[0m \u001b[1;33m=\u001b[0m \u001b[0mdf\u001b[0m\u001b[1;33m[\u001b[0m\u001b[1;33m-\u001b[0m\u001b[1;36m1\u001b[0m\u001b[1;33m]\u001b[0m\u001b[1;33m[\u001b[0m\u001b[1;36m1\u001b[0m\u001b[1;33m]\u001b[0m\u001b[1;33m\u001b[0m\u001b[0m\n",
      "\u001b[1;32m~\\Anaconda3\\lib\\site-packages\\pandas\\core\\generic.py\u001b[0m in \u001b[0;36mgroupby\u001b[1;34m(self, by, axis, level, as_index, sort, group_keys, squeeze, observed, **kwargs)\u001b[0m\n\u001b[0;32m   6657\u001b[0m         return groupby(self, by=by, axis=axis, level=level, as_index=as_index,\n\u001b[0;32m   6658\u001b[0m                        \u001b[0msort\u001b[0m\u001b[1;33m=\u001b[0m\u001b[0msort\u001b[0m\u001b[1;33m,\u001b[0m \u001b[0mgroup_keys\u001b[0m\u001b[1;33m=\u001b[0m\u001b[0mgroup_keys\u001b[0m\u001b[1;33m,\u001b[0m \u001b[0msqueeze\u001b[0m\u001b[1;33m=\u001b[0m\u001b[0msqueeze\u001b[0m\u001b[1;33m,\u001b[0m\u001b[1;33m\u001b[0m\u001b[0m\n\u001b[1;32m-> 6659\u001b[1;33m                        observed=observed, **kwargs)\n\u001b[0m\u001b[0;32m   6660\u001b[0m \u001b[1;33m\u001b[0m\u001b[0m\n\u001b[0;32m   6661\u001b[0m     def asfreq(self, freq, method=None, how=None, normalize=False,\n",
      "\u001b[1;32m~\\Anaconda3\\lib\\site-packages\\pandas\\core\\groupby\\groupby.py\u001b[0m in \u001b[0;36mgroupby\u001b[1;34m(obj, by, **kwds)\u001b[0m\n\u001b[0;32m   2150\u001b[0m         \u001b[1;32mraise\u001b[0m \u001b[0mTypeError\u001b[0m\u001b[1;33m(\u001b[0m\u001b[1;34m'invalid type: %s'\u001b[0m \u001b[1;33m%\u001b[0m \u001b[0mtype\u001b[0m\u001b[1;33m(\u001b[0m\u001b[0mobj\u001b[0m\u001b[1;33m)\u001b[0m\u001b[1;33m)\u001b[0m\u001b[1;33m\u001b[0m\u001b[0m\n\u001b[0;32m   2151\u001b[0m \u001b[1;33m\u001b[0m\u001b[0m\n\u001b[1;32m-> 2152\u001b[1;33m     \u001b[1;32mreturn\u001b[0m \u001b[0mklass\u001b[0m\u001b[1;33m(\u001b[0m\u001b[0mobj\u001b[0m\u001b[1;33m,\u001b[0m \u001b[0mby\u001b[0m\u001b[1;33m,\u001b[0m \u001b[1;33m**\u001b[0m\u001b[0mkwds\u001b[0m\u001b[1;33m)\u001b[0m\u001b[1;33m\u001b[0m\u001b[0m\n\u001b[0m\u001b[0;32m   2153\u001b[0m \u001b[1;33m\u001b[0m\u001b[0m\n\u001b[0;32m   2154\u001b[0m \u001b[1;33m\u001b[0m\u001b[0m\n",
      "\u001b[1;32m~\\Anaconda3\\lib\\site-packages\\pandas\\core\\groupby\\groupby.py\u001b[0m in \u001b[0;36m__init__\u001b[1;34m(self, obj, keys, axis, level, grouper, exclusions, selection, as_index, sort, group_keys, squeeze, observed, **kwargs)\u001b[0m\n\u001b[0;32m    597\u001b[0m                                                     \u001b[0msort\u001b[0m\u001b[1;33m=\u001b[0m\u001b[0msort\u001b[0m\u001b[1;33m,\u001b[0m\u001b[1;33m\u001b[0m\u001b[0m\n\u001b[0;32m    598\u001b[0m                                                     \u001b[0mobserved\u001b[0m\u001b[1;33m=\u001b[0m\u001b[0mobserved\u001b[0m\u001b[1;33m,\u001b[0m\u001b[1;33m\u001b[0m\u001b[0m\n\u001b[1;32m--> 599\u001b[1;33m                                                     mutated=self.mutated)\n\u001b[0m\u001b[0;32m    600\u001b[0m \u001b[1;33m\u001b[0m\u001b[0m\n\u001b[0;32m    601\u001b[0m         \u001b[0mself\u001b[0m\u001b[1;33m.\u001b[0m\u001b[0mobj\u001b[0m \u001b[1;33m=\u001b[0m \u001b[0mobj\u001b[0m\u001b[1;33m\u001b[0m\u001b[0m\n",
      "\u001b[1;32m~\\Anaconda3\\lib\\site-packages\\pandas\\core\\groupby\\groupby.py\u001b[0m in \u001b[0;36m_get_grouper\u001b[1;34m(obj, key, axis, level, sort, observed, mutated, validate)\u001b[0m\n\u001b[0;32m   3289\u001b[0m                 \u001b[0min_axis\u001b[0m\u001b[1;33m,\u001b[0m \u001b[0mname\u001b[0m\u001b[1;33m,\u001b[0m \u001b[0mlevel\u001b[0m\u001b[1;33m,\u001b[0m \u001b[0mgpr\u001b[0m \u001b[1;33m=\u001b[0m \u001b[1;32mFalse\u001b[0m\u001b[1;33m,\u001b[0m \u001b[1;32mNone\u001b[0m\u001b[1;33m,\u001b[0m \u001b[0mgpr\u001b[0m\u001b[1;33m,\u001b[0m \u001b[1;32mNone\u001b[0m\u001b[1;33m\u001b[0m\u001b[0m\n\u001b[0;32m   3290\u001b[0m             \u001b[1;32melse\u001b[0m\u001b[1;33m:\u001b[0m\u001b[1;33m\u001b[0m\u001b[0m\n\u001b[1;32m-> 3291\u001b[1;33m                 \u001b[1;32mraise\u001b[0m \u001b[0mKeyError\u001b[0m\u001b[1;33m(\u001b[0m\u001b[0mgpr\u001b[0m\u001b[1;33m)\u001b[0m\u001b[1;33m\u001b[0m\u001b[0m\n\u001b[0m\u001b[0;32m   3292\u001b[0m         \u001b[1;32melif\u001b[0m \u001b[0misinstance\u001b[0m\u001b[1;33m(\u001b[0m\u001b[0mgpr\u001b[0m\u001b[1;33m,\u001b[0m \u001b[0mGrouper\u001b[0m\u001b[1;33m)\u001b[0m \u001b[1;32mand\u001b[0m \u001b[0mgpr\u001b[0m\u001b[1;33m.\u001b[0m\u001b[0mkey\u001b[0m \u001b[1;32mis\u001b[0m \u001b[1;32mnot\u001b[0m \u001b[1;32mNone\u001b[0m\u001b[1;33m:\u001b[0m\u001b[1;33m\u001b[0m\u001b[0m\n\u001b[0;32m   3293\u001b[0m             \u001b[1;31m# Add key to exclusions\u001b[0m\u001b[1;33m\u001b[0m\u001b[1;33m\u001b[0m\u001b[0m\n",
      "\u001b[1;31mKeyError\u001b[0m: 'Size'"
     ]
    }
   ],
   "source": [
    "def mode(data):\n",
    "    df = data.groupby(data).size().reset_index(name='count')\n",
    "    df = np.array(df.sort_values([\"count\"]))\n",
    "    modeValue = df[-1][0]\n",
    "    modeFrequence = df[-1][1]\n",
    "    return modeValue,modeFrequence\n",
    "\n",
    "valorDaModa,frequencia = mode(df[\"Size\"])\n",
    "print(\"A moda dos tamanhos de arquivos é: {} e o número de vezes que ela apareceu foi de: {} \".format(valorDaModa,frequencia))"
   ]
  },
  {
   "cell_type": "code",
   "execution_count": null,
   "metadata": {},
   "outputs": [],
   "source": [
    "def median(data):\n",
    "    data = np.sort(data)\n",
    "    medianValue = 0\n",
    "    dataLen = len(data)\n",
    "    centerPoint = dataLen / 2\n",
    "    if dataLen % 2 != 0:\n",
    "        centerPoint = int(centerPoint + 0.5)\n",
    "        medianValue = data[centerPoint - 1]\n",
    "    else:\n",
    "        centerPoint = int(centerPoint)\n",
    "        medianValue = (data[centerPoint - 1] + data[centerPoint]) / 2\n",
    "    \n",
    "    return medianValue\n",
    "\n",
    "print(\"O valor da mediana dos tamanhos de arquivos é: \" + str(median(df[\"Size\"])))"
   ]
  },
  {
   "cell_type": "code",
   "execution_count": null,
   "metadata": {},
   "outputs": [],
   "source": [
    "def quartile(x,data):\n",
    "    data = np.sort(data)\n",
    "    quartileValue = 0\n",
    "    dataLen = len(data)\n",
    "    if x == 1:\n",
    "        position = np.round(0.25 * (dataLen + 1))\n",
    "        quartileValue = data[int(position - 1)]\n",
    "    elif x == 2:\n",
    "        quartileValue = median(data)\n",
    "    elif x == 3:\n",
    "        position = np.round(0.75 * (dataLen + 1))\n",
    "        quartileValue = data[int(position - 1)]\n",
    "    return quartileValue\n",
    "\n",
    "print(\"O 1º quartil dos tamanhos de arquivos é: \" + str(quartile(1,df[\"Size\"])))\n",
    "print(\"O 2º quartil(mediana) dos tamanhos de arquivos é: \" + str(quartile(2,df[\"Size\"])))\n",
    "print(\"O 3º quartil dos tamanhos de arquivos é: \" + str(quartile(3,df[\"Size\"])))"
   ]
  },
  {
   "cell_type": "code",
   "execution_count": null,
   "metadata": {},
   "outputs": [],
   "source": [
    "def interquartileRange(data):\n",
    "    return quartile(3,data) - quartile(1,data)\n",
    "\n",
    "print(\"A amplitude interquartil dos tamanhos de arquivos é: \" + str(interquartileRange(df[\"Size\"])))"
   ]
  },
  {
   "cell_type": "code",
   "execution_count": null,
   "metadata": {},
   "outputs": [],
   "source": [
    "def normal(mean, std, val):\n",
    "    a = 1/(np.sqrt(2*np.pi)*std)\n",
    "    diff = np.abs((val-mean) ** 2)\n",
    "    b = np.exp(-(diff)/(2*std*std))\n",
    "    return a*b\n",
    "\n",
    "def pdf(data):\n",
    "    x = np.sort(data)\n",
    "    meanValue = mean(data)\n",
    "    std = standardDeviation(data)\n",
    "    y = []\n",
    "    for i in x:\n",
    "        y.append(normal(meanValue,std,i))\n",
    "    plt.plot(x,y, label = 'PDF')\n",
    "    plt.show()\n",
    "\n",
    "print(\"A seguir o plot da PDF.\")\n",
    "pdf(df[\"Size\"])"
   ]
  },
  {
   "cell_type": "code",
   "execution_count": null,
   "metadata": {},
   "outputs": [],
   "source": [
    "def cdf(data):\n",
    "    x = np.sort(data)\n",
    "    meanValue = mean(data)\n",
    "    std = standardDeviation(data)\n",
    "    y = []\n",
    "    yCumulative = 0\n",
    "    for i in x:\n",
    "        norm = normal(meanValue,std,i)\n",
    "        yCumulative += norm\n",
    "        y.append(yCumulative)\n",
    "    plt.plot(x,y, label = 'CDF')\n",
    "    plt.show()\n",
    "    \n",
    "print(\"A seguir o plot da CDF.\")\n",
    "cdf(df[\"Size\"])"
   ]
  },
  {
   "cell_type": "code",
   "execution_count": null,
   "metadata": {},
   "outputs": [],
   "source": [
    "def mode(data):\n",
    "    for i in data:\n",
    "        "
   ]
  }
 ],
 "metadata": {
  "kernelspec": {
   "display_name": "Python 3",
   "language": "python",
   "name": "python3"
  },
  "language_info": {
   "codemirror_mode": {
    "name": "ipython",
    "version": 3
   },
   "file_extension": ".py",
   "mimetype": "text/x-python",
   "name": "python",
   "nbconvert_exporter": "python",
   "pygments_lexer": "ipython3",
   "version": "3.6.5"
  }
 },
 "nbformat": 4,
 "nbformat_minor": 2
}
