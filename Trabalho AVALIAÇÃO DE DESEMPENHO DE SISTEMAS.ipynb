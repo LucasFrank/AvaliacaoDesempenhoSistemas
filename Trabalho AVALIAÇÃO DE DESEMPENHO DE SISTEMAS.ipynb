{
 "cells": [
  {
   "cell_type": "code",
   "execution_count": 1,
   "metadata": {},
   "outputs": [
    {
     "name": "stdout",
     "output_type": "stream",
     "text": [
      "Importing modules...\n"
     ]
    }
   ],
   "source": [
    "import pandas as pd\n",
    "import numpy as np\n",
    "import matplotlib.pyplot as plt\n",
    "print(\"Importing modules...\")"
   ]
  },
  {
   "cell_type": "code",
   "execution_count": 2,
   "metadata": {},
   "outputs": [
    {
     "name": "stdout",
     "output_type": "stream",
     "text": [
      "Reading data...\n"
     ]
    }
   ],
   "source": [
    "df = pd.read_csv(\"fileSize.txt\", delim_whitespace = True, header = None, names=[\"Quantity\",\"Size\"])\n",
    "print(\"Reading data...\")"
   ]
  },
  {
   "cell_type": "code",
   "execution_count": 3,
   "metadata": {},
   "outputs": [
    {
     "name": "stdout",
     "output_type": "stream",
     "text": [
      "Printing data...\n",
      "      Quantity       Size\n",
      "0        26326          0\n",
      "1         2031          1\n",
      "2         1097          2\n",
      "3          834          3\n",
      "4         8887          4\n",
      "5          874          5\n",
      "6          637          6\n",
      "7          545          7\n",
      "8         9855          8\n",
      "9          278          9\n",
      "10         242         10\n",
      "11         156         11\n",
      "12        7550         12\n",
      "13         129         13\n",
      "14         137         14\n",
      "15         124         15\n",
      "16        4696         16\n",
      "17          85         17\n",
      "18         138         18\n",
      "19         118         19\n",
      "20        3453         20\n",
      "21         102         21\n",
      "22         104         22\n",
      "23         108         23\n",
      "24        2791         24\n",
      "25         148         25\n",
      "26         154         26\n",
      "27         178         27\n",
      "28        2324         28\n",
      "29         147         29\n",
      "...        ...        ...\n",
      "3127         1    2691188\n",
      "3128         1    2698160\n",
      "3129         1    2927564\n",
      "3130         1    2931836\n",
      "3131         1    3155260\n",
      "3132         1    3703400\n",
      "3133         1    3958864\n",
      "3134         1    4163794\n",
      "3135         1    4472204\n",
      "3136         1    4590984\n",
      "3137         1    4593040\n",
      "3138         1    4852440\n",
      "3139         1    6696416\n",
      "3140         1    7210088\n",
      "3141         1    7925420\n",
      "3142         1    8673920\n",
      "3143         1   10332304\n",
      "3144         1   12700752\n",
      "3145         1   13164116\n",
      "3146         1   15562832\n",
      "3147         1   21920096\n",
      "3148         1   29968732\n",
      "3149         1   54207660\n",
      "3150         1  153450740\n",
      "3151         1  153462848\n",
      "3152         1  153493212\n",
      "3153         1  154554768\n",
      "3154         1  219005944\n",
      "3155         1  219005948\n",
      "3156         1  234065140\n",
      "\n",
      "[3157 rows x 2 columns]\n"
     ]
    }
   ],
   "source": [
    "print(\"Printing data...\")\n",
    "print(df)"
   ]
  },
  {
   "cell_type": "code",
   "execution_count": 4,
   "metadata": {},
   "outputs": [
    {
     "name": "stdout",
     "output_type": "stream",
     "text": [
      "O valor da média dos tamanhos de arquivos é: 518226.67627494456\n"
     ]
    }
   ],
   "source": [
    "def mean(data):\n",
    "    meanValue = 0\n",
    "    dataLen = len(data)\n",
    "    for index in range(dataLen):\n",
    "        meanValue += data[index]\n",
    "\n",
    "    return meanValue / dataLen\n",
    "\n",
    "print(\"O valor da média dos tamanhos de arquivos é: \" + str(mean(df[\"Size\"])))"
   ]
  },
  {
   "cell_type": "code",
   "execution_count": 5,
   "metadata": {},
   "outputs": [
    {
     "name": "stdout",
     "output_type": "stream",
     "text": [
      "O valor da variância dos tamanhos de arquivos é: 79157065131817.33\n"
     ]
    }
   ],
   "source": [
    "def variance(data):\n",
    "    varianceValue = 0\n",
    "    meanValue = mean(data)\n",
    "    dataLen = len(data)\n",
    "    for index in range(dataLen):\n",
    "        varianceValue += (data[index] - meanValue) ** 2\n",
    "        \n",
    "    return varianceValue / dataLen\n",
    "\n",
    "print(\"O valor da variância dos tamanhos de arquivos é: \" + str(variance(df[\"Size\"])))"
   ]
  },
  {
   "cell_type": "code",
   "execution_count": 6,
   "metadata": {},
   "outputs": [
    {
     "name": "stdout",
     "output_type": "stream",
     "text": [
      "O valor do desvio padrão dos tamanhos de arquivos é: 8897025.63398675\n"
     ]
    }
   ],
   "source": [
    "def standardDeviation(data):\n",
    "    deviationValue = 0\n",
    "    deviationValue = variance(data) ** 0.5\n",
    "    return deviationValue\n",
    "\n",
    "print(\"O valor do desvio padrão dos tamanhos de arquivos é: \" + str(standardDeviation(df[\"Size\"])))"
   ]
  },
  {
   "cell_type": "code",
   "execution_count": 7,
   "metadata": {},
   "outputs": [
    {
     "name": "stdout",
     "output_type": "stream",
     "text": [
      "O valor do coeficiente de variação dos tamanhos de arquivos é: 17.16821236980561\n"
     ]
    }
   ],
   "source": [
    "def coefficientOfVariation(data):\n",
    "    coefficientOfVariationValue = 0\n",
    "    coefficientOfVariationValue = standardDeviation(data) / mean(data)\n",
    "    return coefficientOfVariationValue\n",
    "\n",
    "print(\"O valor do coeficiente de variação dos tamanhos de arquivos é: \" + str(coefficientOfVariation(df[\"Size\"])))"
   ]
  },
  {
   "cell_type": "code",
   "execution_count": 8,
   "metadata": {},
   "outputs": [
    {
     "name": "stdout",
     "output_type": "stream",
     "text": [
      "O valor da mediana dos tamanhos de arquivos é: 4188\n"
     ]
    }
   ],
   "source": [
    "def median(data):\n",
    "    data = np.sort(data)\n",
    "    medianValue = 0\n",
    "    dataLen = len(data)\n",
    "    centerPoint = dataLen / 2\n",
    "    if dataLen % 2 != 0:\n",
    "        centerPoint = int(centerPoint + 0.5)\n",
    "        medianValue = data[centerPoint - 1]\n",
    "    else:\n",
    "        centerPoint = int(centerPoint)\n",
    "        medianValue = (data[centerPoint - 1] + data[centerPoint]) / 2\n",
    "    \n",
    "    return medianValue\n",
    "\n",
    "print(\"O valor da mediana dos tamanhos de arquivos é: \" + str(median(df[\"Size\"])))"
   ]
  },
  {
   "cell_type": "code",
   "execution_count": 9,
   "metadata": {},
   "outputs": [
    {
     "name": "stdout",
     "output_type": "stream",
     "text": [
      "O 1º quartil dos tamanhos de arquivos é: 1176\n",
      "O 2º quartil(mediana) dos tamanhos de arquivos é: 4188\n",
      "O 3º quartil dos tamanhos de arquivos é: 15292\n"
     ]
    }
   ],
   "source": [
    "def quartile(x,data):\n",
    "    data = np.sort(data)\n",
    "    quartileValue = 0\n",
    "    dataLen = len(data)\n",
    "    if x == 1:\n",
    "        position = np.round(0.25 * (dataLen + 1))\n",
    "        quartileValue = data[int(position - 1)]\n",
    "    elif x == 2:\n",
    "        quartileValue = median(data)\n",
    "    elif x == 3:\n",
    "        position = np.round(0.75 * (dataLen + 1))\n",
    "        quartileValue = data[int(position - 1)]\n",
    "    return quartileValue\n",
    "\n",
    "print(\"O 1º quartil dos tamanhos de arquivos é: \" + str(quartile(1,df[\"Size\"])))\n",
    "print(\"O 2º quartil(mediana) dos tamanhos de arquivos é: \" + str(quartile(2,df[\"Size\"])))\n",
    "print(\"O 3º quartil dos tamanhos de arquivos é: \" + str(quartile(3,df[\"Size\"])))"
   ]
  },
  {
   "cell_type": "code",
   "execution_count": 10,
   "metadata": {},
   "outputs": [
    {
     "name": "stdout",
     "output_type": "stream",
     "text": [
      "A amplitude interquartil dos tamanhos de arquivos é: 14116\n"
     ]
    }
   ],
   "source": [
    "def interquartileRange(data):\n",
    "    return quartile(3,data) - quartile(1,data)\n",
    "\n",
    "print(\"A amplitude interquartil dos tamanhos de arquivos é: \" + str(interquartileRange(df[\"Size\"])))"
   ]
  },
  {
   "cell_type": "code",
   "execution_count": 11,
   "metadata": {},
   "outputs": [
    {
     "name": "stdout",
     "output_type": "stream",
     "text": [
      "A seguir o plot da PDF.\n"
     ]
    },
    {
     "data": {
      "image/png": "[encoded data removed]",
      "text/plain": [
       "<Figure size 432x288 with 1 Axes>"
      ]
     },
     "metadata": {},
     "output_type": "display_data"
    }
   ],
   "source": [
    "def normal(mean, std, val):\n",
    "    a = 1/(np.sqrt(2*np.pi)*std)\n",
    "    diff = np.abs((val-mean) ** 2)\n",
    "    b = np.exp(-(diff)/(2*std*std))\n",
    "    return a*b\n",
    "\n",
    "def pdf(data):\n",
    "    x = np.sort(data)\n",
    "    meanValue = mean(data)\n",
    "    std = standardDeviation(data)\n",
    "    y = []\n",
    "    for i in x:\n",
    "        y.append(normal(meanValue,std,i))\n",
    "    plt.plot(x,y, label = 'PDF')\n",
    "    plt.show()\n",
    "\n",
    "print(\"A seguir o plot da PDF.\")\n",
    "pdf(df[\"Size\"])"
   ]
  },
  {
   "cell_type": "code",
   "execution_count": 12,
   "metadata": {},
   "outputs": [
    {
     "name": "stdout",
     "output_type": "stream",
     "text": [
      "A seguir o plot da CDF.\n"
     ]
    },
    {
     "data": {
      "image/png": "[encoded data removed]",
      "text/plain": [
       "<Figure size 432x288 with 1 Axes>"
      ]
     },
     "metadata": {},
     "output_type": "display_data"
    }
   ],
   "source": [
    "def cdf(data):\n",
    "    x = np.sort(data)\n",
    "    meanValue = mean(data)\n",
    "    std = standardDeviation(data)\n",
    "    y = []\n",
    "    yCumulative = 0\n",
    "    for i in x:\n",
    "        norm = normal(meanValue,std,i)\n",
    "        yCumulative += norm\n",
    "        y.append(yCumulative)\n",
    "    plt.plot(x,y, label = 'CDF')\n",
    "    plt.show()\n",
    "    \n",
    "print(\"A seguir o plot da CDF.\")\n",
    "cdf(df[\"Size\"])"
   ]
  }
 ],
 "metadata": {
  "kernelspec": {
   "display_name": "Python 3",
   "language": "python",
   "name": "python3"
  },
  "language_info": {
   "codemirror_mode": {
    "name": "ipython",
    "version": 3
   },
   "file_extension": ".py",
   "mimetype": "text/x-python",
   "name": "python",
   "nbconvert_exporter": "python",
   "pygments_lexer": "ipython3",
   "version": "3.6.5"
  }
 },
 "nbformat": 4,
 "nbformat_minor": 2
}
