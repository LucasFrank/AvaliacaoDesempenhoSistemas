{
 "cells": [
  {
   "cell_type": "markdown",
   "metadata": {},
   "source": [
    "# Importando as bibliotecas a serem utilizadas nesse trabalho:"
   ]
  },
  {
   "cell_type": "code",
   "execution_count": 1,
   "metadata": {},
   "outputs": [
    {
     "name": "stdout",
     "output_type": "stream",
     "text": [
      "Importing modules...\n"
     ]
    }
   ],
   "source": [
    "import pandas as pd\n",
    "import numpy as np\n",
    "import matplotlib.pyplot as plt\n",
    "print(\"Importing modules...\")"
   ]
  },
  {
   "cell_type": "markdown",
   "metadata": {},
   "source": [
    "# Lendo o arquivo contendo os tamanhos dos arquivos:"
   ]
  },
  {
   "cell_type": "code",
   "execution_count": 16,
   "metadata": {},
   "outputs": [
    {
     "name": "stdout",
     "output_type": "stream",
     "text": [
      "Reading data...\n",
      "Done\n"
     ]
    }
   ],
   "source": [
    "print(\"Reading data...\")\n",
    "df = pd.read_csv(\"fileSizeComplete.txt\", delim_whitespace = True, header = None, names=[\"Size\"])\n",
    "print(\"Done\")"
   ]
  },
  {
   "cell_type": "markdown",
   "metadata": {},
   "source": [
    "# Imprimindo o dataframe para verificar se está tudo de acordo."
   ]
  },
  {
   "cell_type": "code",
   "execution_count": 3,
   "metadata": {},
   "outputs": [
    {
     "name": "stdout",
     "output_type": "stream",
     "text": [
      "Printing data...\n",
      "             Size\n",
      "0               0\n",
      "1               0\n",
      "2               0\n",
      "3               0\n",
      "4               0\n",
      "5               0\n",
      "6               0\n",
      "7               0\n",
      "8               0\n",
      "9               0\n",
      "10              0\n",
      "11              0\n",
      "12              0\n",
      "13              0\n",
      "14              0\n",
      "15              0\n",
      "16              0\n",
      "17              0\n",
      "18              0\n",
      "19              0\n",
      "20              0\n",
      "21              0\n",
      "22              0\n",
      "23              0\n",
      "24              0\n",
      "25              0\n",
      "26              0\n",
      "27              0\n",
      "28              0\n",
      "29              0\n",
      "...           ...\n",
      "114011    2691188\n",
      "114012    2698160\n",
      "114013    2927576\n",
      "114014    2931836\n",
      "114015    3155260\n",
      "114016    3703400\n",
      "114017    3958864\n",
      "114018    4163794\n",
      "114019    4472204\n",
      "114020    4590984\n",
      "114021    4593040\n",
      "114022    4852440\n",
      "114023    6696416\n",
      "114024    7210088\n",
      "114025    7925420\n",
      "114026    8673920\n",
      "114027   10332304\n",
      "114028   12700752\n",
      "114029   13164116\n",
      "114030   15562832\n",
      "114031   21920096\n",
      "114032   29968732\n",
      "114033   54207712\n",
      "114034  153450740\n",
      "114035  153462848\n",
      "114036  153489344\n",
      "114037  154550900\n",
      "114038  218997168\n",
      "114039  218997216\n",
      "114040  234056436\n",
      "\n",
      "[114041 rows x 1 columns]\n"
     ]
    }
   ],
   "source": [
    "print(\"Printing data...\")\n",
    "print(df)"
   ]
  },
  {
   "cell_type": "markdown",
   "metadata": {},
   "source": [
    "# Média:"
   ]
  },
  {
   "cell_type": "code",
   "execution_count": 4,
   "metadata": {},
   "outputs": [
    {
     "name": "stdout",
     "output_type": "stream",
     "text": [
      "O valor da média dos tamanhos de arquivos é: 14500.760156434966\n"
     ]
    }
   ],
   "source": [
    "def mean(data):\n",
    "    meanValue = 0\n",
    "    dataLen = len(data)\n",
    "    for index in range(dataLen):\n",
    "        meanValue += data[index]\n",
    "\n",
    "    return meanValue / dataLen\n",
    "\n",
    "print(\"O valor da média dos tamanhos de arquivos é: \" + str(mean(df[\"Size\"])))"
   ]
  },
  {
   "cell_type": "markdown",
   "metadata": {},
   "source": [
    "# Variância:"
   ]
  },
  {
   "cell_type": "code",
   "execution_count": 5,
   "metadata": {},
   "outputs": [
    {
     "name": "stdout",
     "output_type": "stream",
     "text": [
      "O valor da variância dos tamanhos de arquivos é: 2198416007565.6272\n"
     ]
    }
   ],
   "source": [
    "def variance(data):\n",
    "    varianceValue = 0\n",
    "    meanValue = mean(data)\n",
    "    dataLen = len(data)\n",
    "    for index in range(dataLen):\n",
    "        varianceValue += (data[index] - meanValue) ** 2\n",
    "        \n",
    "    return varianceValue / dataLen\n",
    "\n",
    "print(\"O valor da variância dos tamanhos de arquivos é: \" + str(variance(df[\"Size\"])))"
   ]
  },
  {
   "cell_type": "markdown",
   "metadata": {},
   "source": [
    "# Desvio Padrão:"
   ]
  },
  {
   "cell_type": "code",
   "execution_count": 6,
   "metadata": {},
   "outputs": [
    {
     "name": "stdout",
     "output_type": "stream",
     "text": [
      "O valor do desvio padrão dos tamanhos de arquivos é: 1482705.6375308037\n"
     ]
    }
   ],
   "source": [
    "def standardDeviation(data):\n",
    "    deviationValue = 0\n",
    "    deviationValue = variance(data) ** 0.5\n",
    "    return deviationValue\n",
    "\n",
    "print(\"O valor do desvio padrão dos tamanhos de arquivos é: \" + str(standardDeviation(df[\"Size\"])))"
   ]
  },
  {
   "cell_type": "markdown",
   "metadata": {},
   "source": [
    "# Coeficiente de Variação:"
   ]
  },
  {
   "cell_type": "code",
   "execution_count": 7,
   "metadata": {},
   "outputs": [
    {
     "name": "stdout",
     "output_type": "stream",
     "text": [
      "O valor do coeficiente de variação dos tamanhos de arquivos é: 102.25020078501382\n"
     ]
    }
   ],
   "source": [
    "def coefficientOfVariation(data):\n",
    "    coefficientOfVariationValue = 0\n",
    "    coefficientOfVariationValue = standardDeviation(data) / mean(data)\n",
    "    return coefficientOfVariationValue\n",
    "\n",
    "print(\"O valor do coeficiente de variação dos tamanhos de arquivos é: \" + str(coefficientOfVariation(df[\"Size\"])))"
   ]
  },
  {
   "cell_type": "markdown",
   "metadata": {},
   "source": [
    "# Moda:"
   ]
  },
  {
   "cell_type": "code",
   "execution_count": 9,
   "metadata": {},
   "outputs": [
    {
     "name": "stdout",
     "output_type": "stream",
     "text": [
      "A moda dos tamanhos de arquivos é: 0 e o número de vezes que ela apareceu foi de: 28047 \n"
     ]
    }
   ],
   "source": [
    "def mode(data):\n",
    "    df = data.groupby(data).size().reset_index(name='count')\n",
    "    df = np.array(df.sort_values([\"count\"]))\n",
    "    modeValue = df[-1][0]\n",
    "    modeFrequence = df[-1][1]\n",
    "    return modeValue,modeFrequence\n",
    "\n",
    "valorDaModa,frequencia = mode(df[\"Size\"])\n",
    "print(\"A moda dos tamanhos de arquivos é: {} e o número de vezes que ela apareceu foi de: {} \".format(valorDaModa,frequencia))"
   ]
  },
  {
   "cell_type": "markdown",
   "metadata": {},
   "source": [
    "# Mediana:"
   ]
  },
  {
   "cell_type": "code",
   "execution_count": 10,
   "metadata": {},
   "outputs": [
    {
     "name": "stdout",
     "output_type": "stream",
     "text": [
      "O valor da mediana dos tamanhos de arquivos é: 12\n"
     ]
    }
   ],
   "source": [
    "def median(data):\n",
    "    data = np.sort(data)\n",
    "    medianValue = 0\n",
    "    dataLen = len(data)\n",
    "    centerPoint = dataLen / 2\n",
    "    if dataLen % 2 != 0:\n",
    "        centerPoint = int(centerPoint + 0.5)\n",
    "        medianValue = data[centerPoint - 1]\n",
    "    else:\n",
    "        centerPoint = int(centerPoint)\n",
    "        medianValue = (data[centerPoint - 1] + data[centerPoint]) / 2\n",
    "    \n",
    "    return medianValue\n",
    "\n",
    "print(\"O valor da mediana dos tamanhos de arquivos é: \" + str(median(df[\"Size\"])))"
   ]
  },
  {
   "cell_type": "markdown",
   "metadata": {},
   "source": [
    "# Quartis:"
   ]
  },
  {
   "cell_type": "code",
   "execution_count": 11,
   "metadata": {},
   "outputs": [
    {
     "name": "stdout",
     "output_type": "stream",
     "text": [
      "O 1º quartil dos tamanhos de arquivos é: 1\n",
      "O 2º quartil(mediana) dos tamanhos de arquivos é: 12\n",
      "O 3º quartil dos tamanhos de arquivos é: 56\n"
     ]
    }
   ],
   "source": [
    "def quartile(x,data):\n",
    "    data = np.sort(data)\n",
    "    quartileValue = 0\n",
    "    dataLen = len(data)\n",
    "    if x == 1:\n",
    "        position = np.round(0.25 * (dataLen + 1))\n",
    "        quartileValue = data[int(position - 1)]\n",
    "    elif x == 2:\n",
    "        quartileValue = median(data)\n",
    "    elif x == 3:\n",
    "        position = np.round(0.75 * (dataLen + 1))\n",
    "        quartileValue = data[int(position - 1)]\n",
    "    return quartileValue\n",
    "\n",
    "print(\"O 1º quartil dos tamanhos de arquivos é: \" + str(quartile(1,df[\"Size\"])))\n",
    "print(\"O 2º quartil(mediana) dos tamanhos de arquivos é: \" + str(quartile(2,df[\"Size\"])))\n",
    "print(\"O 3º quartil dos tamanhos de arquivos é: \" + str(quartile(3,df[\"Size\"])))"
   ]
  },
  {
   "cell_type": "markdown",
   "metadata": {},
   "source": [
    "# Amplitude Inter-quartil:"
   ]
  },
  {
   "cell_type": "code",
   "execution_count": 12,
   "metadata": {},
   "outputs": [
    {
     "name": "stdout",
     "output_type": "stream",
     "text": [
      "A amplitude interquartil dos tamanhos de arquivos é: 55\n"
     ]
    }
   ],
   "source": [
    "def interquartileRange(data):\n",
    "    return quartile(3,data) - quartile(1,data)\n",
    "\n",
    "print(\"A amplitude interquartil dos tamanhos de arquivos é: \" + str(interquartileRange(df[\"Size\"])))"
   ]
  },
  {
   "cell_type": "markdown",
   "metadata": {},
   "source": [
    "# PDF:"
   ]
  },
  {
   "cell_type": "code",
   "execution_count": 13,
   "metadata": {},
   "outputs": [
    {
     "name": "stdout",
     "output_type": "stream",
     "text": [
      "A seguir o plot da PDF.\n"
     ]
    },
    {
     "data": {
      "image/png": "[encoded data removed]",
      "text/plain": [
       "<Figure size 432x288 with 1 Axes>"
      ]
     },
     "metadata": {},
     "output_type": "display_data"
    }
   ],
   "source": [
    "def normal(mean, std, val):\n",
    "    a = 1/(np.sqrt(2*np.pi)*std)\n",
    "    diff = np.abs((val-mean) ** 2)\n",
    "    b = np.exp(-(diff)/(2*std*std))\n",
    "    return a*b\n",
    "\n",
    "def pdf(data):\n",
    "    x = np.sort(data)\n",
    "    meanValue = mean(data)\n",
    "    std = standardDeviation(data)\n",
    "    y = []\n",
    "    for i in x:\n",
    "        y.append(normal(meanValue,std,i))\n",
    "    plt.plot(x,y, label = 'PDF')\n",
    "    plt.show()\n",
    "\n",
    "print(\"A seguir o plot da PDF.\")\n",
    "pdf(df[\"Size\"])"
   ]
  },
  {
   "cell_type": "markdown",
   "metadata": {},
   "source": [
    "# CDF:"
   ]
  },
  {
   "cell_type": "code",
   "execution_count": 14,
   "metadata": {},
   "outputs": [
    {
     "name": "stdout",
     "output_type": "stream",
     "text": [
      "A seguir o plot da CDF.\n"
     ]
    },
    {
     "data": {
      "image/png": "[encoded data removed]",
      "text/plain": [
       "<Figure size 432x288 with 1 Axes>"
      ]
     },
     "metadata": {},
     "output_type": "display_data"
    }
   ],
   "source": [
    "def cdf(data):\n",
    "    x = np.sort(data)\n",
    "    meanValue = mean(data)\n",
    "    std = standardDeviation(data)\n",
    "    y = []\n",
    "    yCumulative = 0\n",
    "    for i in x:\n",
    "        norm = normal(meanValue,std,i)\n",
    "        yCumulative += norm\n",
    "        y.append(yCumulative)\n",
    "    plt.plot(x,y, label = 'CDF')\n",
    "    plt.show()\n",
    "    \n",
    "print(\"A seguir o plot da CDF.\")\n",
    "cdf(df[\"Size\"])"
   ]
  }
 ],
 "metadata": {
  "kernelspec": {
   "display_name": "Python 3",
   "language": "python",
   "name": "python3"
  },
  "language_info": {
   "codemirror_mode": {
    "name": "ipython",
    "version": 3
   },
   "file_extension": ".py",
   "mimetype": "text/x-python",
   "name": "python",
   "nbconvert_exporter": "python",
   "pygments_lexer": "ipython3",
   "version": "3.6.5"
  }
 },
 "nbformat": 4,
 "nbformat_minor": 2
}
